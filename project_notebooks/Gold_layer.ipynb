{
 "cells": [
  {
   "cell_type": "code",
   "execution_count": 1,
   "id": "148a195f-f7e5-4337-9efe-c4ab9f92c2ad",
   "metadata": {
    "tags": []
   },
   "outputs": [],
   "source": [
    "import re\n",
    "from pyspark.sql.functions import when, col\n",
    "from pyspark.sql import SparkSession\n",
    "from os.path import abspath\n",
    "from pyspark.sql import SparkSession\n",
    "from pyspark.sql.functions import col, year, month, dayofmonth, weekofyear, dayofweek, floor, date_format, when, lit, concat\n",
    "from datetime import date, timedelta\n"
   ]
  },
  {
   "cell_type": "code",
   "execution_count": 2,
   "id": "6ecacc22-0dc8-4a5f-bbbc-d56c98d19e19",
   "metadata": {},
   "outputs": [],
   "source": [
    "\n",
    "spark = SparkSession \\\n",
    "    .builder \\\n",
    "    .master(\"local[4]\") \\\n",
    "    .appName(\"Caching\") \\\n",
    "    .config(\"spark.sql.warehouse.dir\", \"hdfs://user/hive/warehouse\") \\\n",
    "    .enableHiveSupport() \\\n",
    "    .getOrCreate()\n",
    "\n",
    "sc = spark.sparkContext\n"
   ]
  },
  {
   "cell_type": "code",
   "execution_count": 3,
   "id": "0df28dd7-4734-4e79-bc45-555b856f6058",
   "metadata": {},
   "outputs": [
    {
     "name": "stdout",
     "output_type": "stream",
     "text": [
      "Date dimension table saved to Hive table sales_schema.date_dim\n"
     ]
    }
   ],
   "source": [
    "\n",
    "start_date = date(2016, 1, 1)\n",
    "end_date = date(2018, 12, 31)\n",
    "date_range = [start_date + timedelta(days=x) for x in range((end_date - start_date).days + 1)]\n",
    "\n",
    "date_df = spark.createDataFrame([(d,) for d in date_range], [\"date\"]).withColumn(\"date\", col(\"date\").cast(\"date\"))\n",
    "\n",
    "date_dim = date_df.withColumn(\"year\", year(col(\"date\"))) \\\n",
    "    .withColumn(\"month\", month(col(\"date\"))) \\\n",
    "    .withColumn(\"day\", dayofmonth(col(\"date\"))) \\\n",
    "    .withColumn(\"week\", weekofyear(col(\"date\"))) \n",
    "\n",
    "date_dim = date_dim.withColumn(\"date_sur_key\", concat(col('day'), col('month'), col('year')))\n",
    "\n",
    "database_name = \"sales_schema\"\n",
    "table_name = \"date_dim\"\n",
    "\n",
    "    spark.sql(f\"USE {database_name}\")\n",
    "\n",
    "    date_dim.write.mode('overwrite').saveAsTable(table_name)\n",
    "    print(f\"Date dimension table saved to Hive table {database_name}.{table_name}\")\n",
    "\n",
    "\n",
    "\n"
   ]
  },
  {
   "cell_type": "code",
   "execution_count": 4,
   "id": "5bc43092-08c6-42e6-aa18-3b5c434277e2",
   "metadata": {},
   "outputs": [],
   "source": [
    "df_transactions =spark.read.parquet(\"/user/silver/sales_transaction/sales_transactions.parquet\")"
   ]
  },
  {
   "cell_type": "code",
   "execution_count": 6,
   "id": "2cb3cfba-1f7f-4fd1-b2e6-def74167bf61",
   "metadata": {},
   "outputs": [
    {
     "data": {
      "text/plain": [
       "['transaction_date',\n",
       " 'transaction_id',\n",
       " 'customer_id',\n",
       " 'customer_fname',\n",
       " 'customer_lname',\n",
       " 'sales_agent_id',\n",
       " 'branch_id',\n",
       " 'product_id',\n",
       " 'product_name',\n",
       " 'product_category',\n",
       " 'units',\n",
       " 'unit_price',\n",
       " 'is_online',\n",
       " 'payment_method',\n",
       " 'shipping_address',\n",
       " 'customer_email',\n",
       " 'offers',\n",
       " 'total_price',\n",
       " 'city',\n",
       " 'state',\n",
       " 'postal_code',\n",
       " 'row_num',\n",
       " 'audit_sur',\n",
       " 'source_file',\n",
       " 'created_at',\n",
       " 'created_by',\n",
       " 'is_valid_email',\n",
       " 'is_positive_units',\n",
       " 'is_positive_unit_price',\n",
       " 'is_valid_transaction',\n",
       " 'customer_sur',\n",
       " 'date_sur']"
      ]
     },
     "execution_count": 6,
     "metadata": {},
     "output_type": "execute_result"
    }
   ],
   "source": [
    "df_transactions.columns"
   ]
  },
  {
   "cell_type": "code",
   "execution_count": 5,
   "id": "2f00c632-8954-40a2-9358-46764097ce76",
   "metadata": {},
   "outputs": [],
   "source": [
    "df_online = df_transactions.filter(col(\"shipping_address\") != \"\")\n",
    "df_branch = df_transactions.filter(col(\"is_online\") == \"no\")"
   ]
  },
  {
   "cell_type": "code",
   "execution_count": 8,
   "id": "799dac72-761b-4068-babc-06adce8e3e7f",
   "metadata": {},
   "outputs": [],
   "source": [
    "def create_customer_dimension(df_transactions):\n",
    "    customer_cols = [\"customer_id\",\"customer_fname\",\"customer_lname\",\"customer_email\",\"customer_sur\"]\n",
    "    return df_transactions.select(customer_cols).dropDuplicates()\n",
    "\n",
    "customer_dim = create_customer_dimension(df_transactions)\n",
    "\n",
    "customer_dim.write\\\n",
    "    .mode(\"overwrite\")\\\n",
    "    .saveAsTable(\"sales_schema.dim_customer\")\n",
    "\n",
    "customer_dim.write\\\n",
    "    .mode(\"overwrite\")\\\n",
    "    .saveAsTable(\"online_sales_schema.dim_customer\")\n",
    "\n",
    "customer_dim.write\\\n",
    "    .mode(\"overwrite\")\\\n",
    "    .saveAsTable(\"branches_sales_schema.dim_customer\")"
   ]
  },
  {
   "cell_type": "code",
   "execution_count": 9,
   "id": "93526c63-306a-40f1-b455-d9913a6b2b89",
   "metadata": {},
   "outputs": [],
   "source": [
    "def create_product_dimension(df_transactions):\n",
    "    product_cols = [\"product_id\",\"product_name\",\"product_category\",\"unit_price\"]\n",
    "    return df_transactions.select(product_cols).dropDuplicates()\n",
    "\n",
    "product_dim= create_product_dimension(df_transactions)\n",
    "\n",
    "product_dim.write\\\n",
    "    .mode(\"overwrite\")\\\n",
    "    .saveAsTable(\"sales_schema.dim_product\")\n",
    "\n",
    "product_dim.write\\\n",
    "    .mode(\"overwrite\")\\\n",
    "    .saveAsTable(\"branches_sales_schema.dim_product\")\n",
    "\n",
    "product_dim.write\\\n",
    "    .mode(\"overwrite\")\\\n",
    "    .saveAsTable(\"online_sales_schema.dim_product\")"
   ]
  },
  {
   "cell_type": "code",
   "execution_count": 10,
   "id": "18442e5f-ea95-4cef-8ac9-078dd76515e1",
   "metadata": {},
   "outputs": [],
   "source": [
    "def create_online_fact(df_online):\n",
    "    branch_fact_cols = [\n",
    "'transaction_date',\n",
    " 'transaction_id',\n",
    " 'customer_id',\n",
    " 'product_id',\n",
    " 'units',\n",
    " 'unit_price',\n",
    " 'payment_method',\n",
    " 'offers',\n",
    " 'total_price',\n",
    " 'postal_code',\n",
    " 'audit_sur'\n",
    "    ]\n",
    "    return df_online.select(branch_fact_cols)"
   ]
  },
  {
   "cell_type": "code",
   "execution_count": 11,
   "id": "8580835c-8bdf-434b-9fdf-8c8ae0f29984",
   "metadata": {},
   "outputs": [],
   "source": [
    "def create_super_fact(df_transactions):\n",
    "    super_fact = [ 'transaction_date','transaction_id', 'customer_id','product_id','units','unit_price','payment_method','offers','total_price']\n",
    "    return df_transactions.select(super_fact)"
   ]
  },
  {
   "cell_type": "code",
   "execution_count": 12,
   "id": "2e00b822-c414-4a01-a3ae-8adeb59c273f",
   "metadata": {},
   "outputs": [],
   "source": [
    "def create_branch_fact(df_transactions):\n",
    "    super_fact = [ 'transaction_date','transaction_id', 'customer_id','sales_agent_id','branch_id','product_id','units','unit_price','payment_method','offers','total_price']\n",
    "    return df_branch.select(super_fact)"
   ]
  },
  {
   "cell_type": "code",
   "execution_count": 26,
   "id": "c9838c59-9e7a-4e45-9ed9-55fd3e8b1fd7",
   "metadata": {},
   "outputs": [],
   "source": [
    "online_fact = create_online_fact(df_online)"
   ]
  },
  {
   "cell_type": "code",
   "execution_count": 27,
   "id": "9aadeef3-cfd8-40b5-8b49-f803375a14bd",
   "metadata": {},
   "outputs": [],
   "source": [
    "super_fact = create_super_fact(df_transactions)"
   ]
  },
  {
   "cell_type": "code",
   "execution_count": 28,
   "id": "52fc3849-1593-4bf7-884b-2d70e415cca0",
   "metadata": {},
   "outputs": [],
   "source": [
    "branch_fact = create_branch_fact (df_branch)"
   ]
  },
  {
   "cell_type": "code",
   "execution_count": 35,
   "id": "30a7df8a-12ca-435b-a8f4-ee45f654eb07",
   "metadata": {},
   "outputs": [],
   "source": [
    "#external\n",
    "\n",
    "super_fact.write\\\n",
    "    .mode(\"overwrite\")\\\n",
    "    .partitionBy(\"transaction_date\")\\\n",
    "    .option(\"path\",\"hdfs:///user/hive/warehouse/sales_schema.db/super_fact\")\\\n",
    "    .saveAsTable(\"sales_schema.super_fact_external\")\n",
    "\n",
    "branch_fact.write\\\n",
    "    .mode(\"overwrite\")\\\n",
    "    .partitionBy(\"transaction_date\")\\\n",
    "    .option(\"path\",\"hdfs:///user/hive/warehouse/branches_sales_schema.db/branch_fact\")\\\n",
    "    .saveAsTable(\"branches_sales_schema.factbranches\")\n",
    "\n",
    "online_fact.write\\\n",
    "    .mode(\"overwrite\")\\\n",
    "    .partitionBy(\"transaction_date\")\\\n",
    "    .option(\"path\",\"hdfs:///user/hive/warehouse/online_sales_schema.db/online_fact\")\\\n",
    "    .saveAsTable(\"online_sales_schema.online_fact\")"
   ]
  },
  {
   "cell_type": "code",
   "execution_count": null,
   "id": "e38abfc4-b7ec-4a10-82bf-5f56bfa35fa0",
   "metadata": {},
   "outputs": [],
   "source": [
    "super_fact.write\\\n",
    "    .mode(\"overwrite\")\\\n",
    "    .partitionBy(\"transaction_date\")\\\n",
    "    .saveAsTable(\"sales_schema.super_fact\")\n",
    "\n",
    "branch_fact.write\\\n",
    "    .mode(\"overwrite\")\\\n",
    "    .partitionBy(\"transaction_date\")\\\n",
    "    .saveAsTable(\"branches_sales_schema.factbranches\")\n",
    "\n",
    "online_fact.write\\\n",
    "    .mode(\"overwrite\")\\\n",
    "    .partitionBy(\"transaction_date\")\\\n",
    "    .saveAsTable(\"online_sales_schema.online_fact\")"
   ]
  },
  {
   "cell_type": "code",
   "execution_count": 18,
   "id": "f8c3d4ab-3e32-4731-944a-5da21c9c83a6",
   "metadata": {},
   "outputs": [],
   "source": [
    "def create_audit_dimension(df_transactions):\n",
    "    audit_cols = [\"transaction_id\",\"source_file\", \"created_at\", \"created_by\", \"is_valid_email\", \"is_positive_units\", \"is_positive_unit_price\", \"is_valid_transaction\"]\n",
    "    return df_transactions.select(audit_cols)\n",
    "\n",
    "audit_dim = create_audit_dimension(df_transactions)\n",
    "\n",
    "\n",
    "audit_dim.write\\\n",
    "    .mode(\"overwrite\")\\\n",
    "    .saveAsTable(\"sales_schema.dim_audit\")\n",
    "\n",
    "audit_dim.write\\\n",
    "    .mode(\"overwrite\")\\\n",
    "    .saveAsTable(\"branches_sales_schema.dim_audit\")\n",
    "\n",
    "audit_dim.write\\\n",
    "    .mode(\"overwrite\")\\\n",
    "    .saveAsTable(\"online_sales_schema.dim_audit\")"
   ]
  },
  {
   "cell_type": "code",
   "execution_count": null,
   "id": "3d6a2736-9bc1-47d7-b5b9-ffb751ee8409",
   "metadata": {},
   "outputs": [],
   "source": [
    "#external\n",
    "\n",
    "audit_dim.write\\\n",
    "    .mode(\"overwrite\")\\\n",
    "    .option(\"path\",\"hdfs:///user/hive/warehouse/sales_schema.db/dim_audit\")\\\n",
    "    .saveAsTable(\"sales_schema.dim_audit\")\n",
    "\n",
    "audit_dim.write\\\n",
    "    .mode(\"overwrite\")\\\n",
    "    .option(\"path\",\"hdfs:///user/hive/warehouse/branches_sales_schema.db/dim_audit\")\\\n",
    "    .saveAsTable(\"branches_sales_schema.dim_audit\")\n",
    "\n",
    "audit_dim.write\\\n",
    "    .mode(\"overwrite\")\\\n",
    "    .option(\"path\",\"hdfs:///user/hive/warehouse/online_sales_schema.db/dim_audit\")\\\n",
    "    .saveAsTable(\"online_sales_schema.dim_audit\")\n",
    "\n",
    "\n",
    ".option(\"path\",\"hdfs:///user/hive/warehouse/online_sales_schema.db/online_fact\")\\"
   ]
  },
  {
   "cell_type": "code",
   "execution_count": 66,
   "id": "c5a77677-2edd-45b3-9be7-bf2ccf178bb7",
   "metadata": {},
   "outputs": [],
   "source": []
  },
  {
   "cell_type": "code",
   "execution_count": 31,
   "id": "f0df571b-9dce-4449-bf3a-52e5ee3c73b0",
   "metadata": {},
   "outputs": [
    {
     "name": "stdout",
     "output_type": "stream",
     "text": [
      "+-------------------+----------------+-----------+--------------+---------+----------+-----+----------+--------------+------+------------------+\n",
      "|   transaction_date|  transaction_id|customer_id|sales_agent_id|branch_id|product_id|units|unit_price|payment_method|offers|       total_price|\n",
      "+-------------------+----------------+-----------+--------------+---------+----------+-----+----------+--------------+------+------------------+\n",
      "|2022-01-01 00:00:00|trx-742931471887|      85520|             2|        2|         2|    6|    699.99|   Credit Card|     0|4199.9400000000005|\n",
      "|2022-01-01 00:00:00|trx-290800105795|      85543|             5|        5|        29|    4|     39.99|   Credit Card|    15|            159.96|\n",
      "|2022-01-01 00:00:00|trx-578598481204|      85515|            11|        2|         1|    9|    999.99|   Credit Card|    10|           8999.91|\n",
      "|2022-01-01 00:00:00|trx-855082289495|      85514|             7|        5|         8|    3|     79.99|   Credit Card|     0|239.96999999999997|\n",
      "|2022-01-01 00:00:00|trx-703858565707|      85484|             3|        5|        29|   10|     39.99|   Credit Card|     0|399.90000000000003|\n",
      "|2022-01-01 00:00:00|trx-248127125913|      85517|             1|        5|        21|    1|    129.99|          Cash|    25|            129.99|\n",
      "|2022-01-01 00:00:00|trx-665898853034|      85500|            11|        3|         4|    5|     99.99|   Credit Card|     0|            499.95|\n",
      "|2022-01-01 00:00:00|trx-082122173355|      85479|             1|        3|        15|    1|     29.99|   Credit Card|     0|             29.99|\n",
      "|2022-01-01 00:00:00|trx-375114786190|      85540|             2|        6|        19|    3|     29.99|   Credit Card|     5|             89.97|\n",
      "|2022-01-01 00:00:00|trx-984171068174|      85530|             4|        2|        16|    3|     39.99|   Credit Card|    10|            119.97|\n",
      "|2022-01-01 00:00:00|trx-547689131788|      85532|             3|        6|        12|    4|    299.99|   Credit Card|     0|           1199.96|\n",
      "|2022-01-01 00:00:00|trx-347688602302|      85516|             5|        4|         1|    9|    999.99|          Cash|     0|           8999.91|\n",
      "|2022-01-01 00:00:00|trx-987540709612|      85501|             6|        4|        13|    4|    149.99|          Cash|     0|            599.96|\n",
      "|2022-01-01 00:00:00|trx-279947063812|      85503|            10|        5|        14|   10|    399.99|   Credit Card|     5|            3999.9|\n",
      "|2022-01-01 00:00:00|trx-062976178053|      85523|             9|        4|        26|    4|    199.99|   Credit Card|     0|            799.96|\n",
      "|2022-01-01 00:00:00|trx-806117564579|      85546|            11|        4|        24|    7|     49.99|   Credit Card|    10|            349.93|\n",
      "|2022-01-01 00:00:00|trx-601337910889|      85538|             5|        4|         2|    7|    699.99|   Credit Card|    25|           4899.93|\n",
      "|2022-01-01 00:00:00|trx-161073806472|      85547|             1|        6|        27|    8|     29.99|   Credit Card|    10|            239.92|\n",
      "|2022-01-01 00:00:00|trx-966527144811|      85504|            11|        2|         9|    4|    129.99|          Cash|    20|            519.96|\n",
      "|2022-01-01 00:00:00|trx-662467571268|      85549|             5|        1|        21|    3|    129.99|   Credit Card|    10|            389.97|\n",
      "+-------------------+----------------+-----------+--------------+---------+----------+-----+----------+--------------+------+------------------+\n",
      "only showing top 20 rows\n",
      "\n"
     ]
    }
   ],
   "source": [
    "#branch_fact.show()"
   ]
  },
  {
   "cell_type": "code",
   "execution_count": 79,
   "id": "cb14ca6a-2baf-4f4e-8088-da63499f4d1d",
   "metadata": {},
   "outputs": [
    {
     "data": {
      "text/html": [
       "<table border='1'>\n",
       "<tr><th>_c0</th><th>_c1</th><th>_c2</th><th>_c3</th></tr>\n",
       "<tr><td>branch_id</td><td>location</td><td>establish_date</td><td>class</td></tr>\n",
       "<tr><td>1</td><td>New York</td><td>2017-01-15</td><td>A</td></tr>\n",
       "<tr><td>2</td><td>Los Angeles</td><td>2016-07-28</td><td>B</td></tr>\n",
       "<tr><td>3</td><td>Chicago</td><td>2015-03-10</td><td>A</td></tr>\n",
       "<tr><td>4</td><td>Houston</td><td>2016-11-05</td><td>D</td></tr>\n",
       "<tr><td>5</td><td>Phoenix</td><td>2017-09-20</td><td>C</td></tr>\n",
       "</table>\n"
      ],
      "text/plain": [
       "+---------+-----------+--------------+-----+\n",
       "|      _c0|        _c1|           _c2|  _c3|\n",
       "+---------+-----------+--------------+-----+\n",
       "|branch_id|   location|establish_date|class|\n",
       "|        1|   New York|    2017-01-15|    A|\n",
       "|        2|Los Angeles|    2016-07-28|    B|\n",
       "|        3|    Chicago|    2015-03-10|    A|\n",
       "|        4|    Houston|    2016-11-05|    D|\n",
       "|        5|    Phoenix|    2017-09-20|    C|\n",
       "+---------+-----------+--------------+-----+"
      ]
     },
     "execution_count": 79,
     "metadata": {},
     "output_type": "execute_result"
    }
   ],
   "source": [
    "#spark.sql(\"select * from sales_schema.dim_branch\")"
   ]
  },
  {
   "cell_type": "code",
   "execution_count": 43,
   "id": "71df8409-fa12-4b08-9ddb-bcebaac98953",
   "metadata": {},
   "outputs": [
    {
     "data": {
      "text/html": [
       "<table border='1'>\n",
       "<tr><th>sales_person_id</th><th>name</th><th>hire_date</th></tr>\n",
       "<tr><td>1</td><td>John Doe</td><td>2020-6-3</td></tr>\n",
       "<tr><td>2</td><td>Jane Smith</td><td>2018-5-13</td></tr>\n",
       "<tr><td>3</td><td>Michael Johnson</td><td>2021-10-3</td></tr>\n",
       "<tr><td>4</td><td>Emily Brown</td><td>2020-10-25</td></tr>\n",
       "<tr><td>5</td><td>David Wilson</td><td>2021-4-8</td></tr>\n",
       "<tr><td>6</td><td>Emma Taylor</td><td>2019-3-28</td></tr>\n",
       "<tr><td>7</td><td>Christopher Miller</td><td>2020-1-11</td></tr>\n",
       "<tr><td>8</td><td>Olivia Davis</td><td>2021-10-24</td></tr>\n",
       "<tr><td>9</td><td>Daniel Martinez</td><td>2018-10-8</td></tr>\n",
       "<tr><td>10</td><td>Sophia Moore</td><td>2019-5-25</td></tr>\n",
       "</table>\n"
      ],
      "text/plain": [
       "+---------------+------------------+----------+\n",
       "|sales_person_id|              name| hire_date|\n",
       "+---------------+------------------+----------+\n",
       "|              1|          John Doe|  2020-6-3|\n",
       "|              2|        Jane Smith| 2018-5-13|\n",
       "|              3|   Michael Johnson| 2021-10-3|\n",
       "|              4|       Emily Brown|2020-10-25|\n",
       "|              5|      David Wilson|  2021-4-8|\n",
       "|              6|       Emma Taylor| 2019-3-28|\n",
       "|              7|Christopher Miller| 2020-1-11|\n",
       "|              8|      Olivia Davis|2021-10-24|\n",
       "|              9|   Daniel Martinez| 2018-10-8|\n",
       "|             10|      Sophia Moore| 2019-5-25|\n",
       "+---------------+------------------+----------+"
      ]
     },
     "execution_count": 43,
     "metadata": {},
     "output_type": "execute_result"
    }
   ],
   "source": [
    "spark.sql(\"select * from sales_schema.dim_sales_agent\")"
   ]
  },
  {
   "cell_type": "code",
   "execution_count": 40,
   "id": "3a9604ed-a8d3-4e09-8e42-c67084886974",
   "metadata": {},
   "outputs": [
    {
     "data": {
      "text/html": [
       "<table border='1'>\n",
       "<tr><th>source_file</th><th>created_at</th><th>created_by</th><th>is_valid_email</th><th>is_positive_units</th><th>is_positive_unit_price</th><th>is_valid_transaction</th></tr>\n",
       "<tr><td>hdfs://localhost:...</td><td>2024-07-01 05:48:...</td><td>Eslam Fayez</td><td>true</td><td>true</td><td>true</td><td>true</td></tr>\n",
       "<tr><td>hdfs://localhost:...</td><td>2024-07-01 05:48:...</td><td>Eslam Fayez</td><td>true</td><td>true</td><td>true</td><td>true</td></tr>\n",
       "<tr><td>hdfs://localhost:...</td><td>2024-07-01 05:48:...</td><td>Eslam Fayez</td><td>true</td><td>true</td><td>true</td><td>true</td></tr>\n",
       "<tr><td>hdfs://localhost:...</td><td>2024-07-01 05:48:...</td><td>Eslam Fayez</td><td>true</td><td>true</td><td>true</td><td>true</td></tr>\n",
       "<tr><td>hdfs://localhost:...</td><td>2024-07-01 05:48:...</td><td>Eslam Fayez</td><td>true</td><td>true</td><td>true</td><td>true</td></tr>\n",
       "<tr><td>hdfs://localhost:...</td><td>2024-07-01 05:48:...</td><td>Eslam Fayez</td><td>true</td><td>true</td><td>true</td><td>true</td></tr>\n",
       "<tr><td>hdfs://localhost:...</td><td>2024-07-01 05:48:...</td><td>Eslam Fayez</td><td>true</td><td>true</td><td>true</td><td>true</td></tr>\n",
       "<tr><td>hdfs://localhost:...</td><td>2024-07-01 05:48:...</td><td>Eslam Fayez</td><td>true</td><td>true</td><td>true</td><td>true</td></tr>\n",
       "<tr><td>hdfs://localhost:...</td><td>2024-07-01 05:48:...</td><td>Eslam Fayez</td><td>true</td><td>true</td><td>true</td><td>true</td></tr>\n",
       "<tr><td>hdfs://localhost:...</td><td>2024-07-01 05:48:...</td><td>Eslam Fayez</td><td>true</td><td>true</td><td>true</td><td>true</td></tr>\n",
       "<tr><td>hdfs://localhost:...</td><td>2024-07-01 05:48:...</td><td>Eslam Fayez</td><td>true</td><td>true</td><td>true</td><td>true</td></tr>\n",
       "<tr><td>hdfs://localhost:...</td><td>2024-07-01 05:48:...</td><td>Eslam Fayez</td><td>true</td><td>true</td><td>true</td><td>true</td></tr>\n",
       "<tr><td>hdfs://localhost:...</td><td>2024-07-01 05:48:...</td><td>Eslam Fayez</td><td>true</td><td>true</td><td>true</td><td>true</td></tr>\n",
       "<tr><td>hdfs://localhost:...</td><td>2024-07-01 05:48:...</td><td>Eslam Fayez</td><td>true</td><td>true</td><td>true</td><td>true</td></tr>\n",
       "<tr><td>hdfs://localhost:...</td><td>2024-07-01 05:48:...</td><td>Eslam Fayez</td><td>true</td><td>true</td><td>true</td><td>true</td></tr>\n",
       "<tr><td>hdfs://localhost:...</td><td>2024-07-01 05:48:...</td><td>Eslam Fayez</td><td>true</td><td>true</td><td>true</td><td>true</td></tr>\n",
       "<tr><td>hdfs://localhost:...</td><td>2024-07-01 05:48:...</td><td>Eslam Fayez</td><td>true</td><td>true</td><td>true</td><td>true</td></tr>\n",
       "<tr><td>hdfs://localhost:...</td><td>2024-07-01 05:48:...</td><td>Eslam Fayez</td><td>true</td><td>true</td><td>true</td><td>true</td></tr>\n",
       "<tr><td>hdfs://localhost:...</td><td>2024-07-01 05:48:...</td><td>Eslam Fayez</td><td>true</td><td>true</td><td>true</td><td>true</td></tr>\n",
       "<tr><td>hdfs://localhost:...</td><td>2024-07-01 05:48:...</td><td>Eslam Fayez</td><td>true</td><td>true</td><td>true</td><td>true</td></tr>\n",
       "</table>\n",
       "only showing top 20 rows\n"
      ],
      "text/plain": [
       "+--------------------+--------------------+-----------+--------------+-----------------+----------------------+--------------------+\n",
       "|         source_file|          created_at| created_by|is_valid_email|is_positive_units|is_positive_unit_price|is_valid_transaction|\n",
       "+--------------------+--------------------+-----------+--------------+-----------------+----------------------+--------------------+\n",
       "|hdfs://localhost:...|2024-07-01 05:48:...|Eslam Fayez|          true|             true|                  true|                true|\n",
       "|hdfs://localhost:...|2024-07-01 05:48:...|Eslam Fayez|          true|             true|                  true|                true|\n",
       "|hdfs://localhost:...|2024-07-01 05:48:...|Eslam Fayez|          true|             true|                  true|                true|\n",
       "|hdfs://localhost:...|2024-07-01 05:48:...|Eslam Fayez|          true|             true|                  true|                true|\n",
       "|hdfs://localhost:...|2024-07-01 05:48:...|Eslam Fayez|          true|             true|                  true|                true|\n",
       "|hdfs://localhost:...|2024-07-01 05:48:...|Eslam Fayez|          true|             true|                  true|                true|\n",
       "|hdfs://localhost:...|2024-07-01 05:48:...|Eslam Fayez|          true|             true|                  true|                true|\n",
       "|hdfs://localhost:...|2024-07-01 05:48:...|Eslam Fayez|          true|             true|                  true|                true|\n",
       "|hdfs://localhost:...|2024-07-01 05:48:...|Eslam Fayez|          true|             true|                  true|                true|\n",
       "|hdfs://localhost:...|2024-07-01 05:48:...|Eslam Fayez|          true|             true|                  true|                true|\n",
       "|hdfs://localhost:...|2024-07-01 05:48:...|Eslam Fayez|          true|             true|                  true|                true|\n",
       "|hdfs://localhost:...|2024-07-01 05:48:...|Eslam Fayez|          true|             true|                  true|                true|\n",
       "|hdfs://localhost:...|2024-07-01 05:48:...|Eslam Fayez|          true|             true|                  true|                true|\n",
       "|hdfs://localhost:...|2024-07-01 05:48:...|Eslam Fayez|          true|             true|                  true|                true|\n",
       "|hdfs://localhost:...|2024-07-01 05:48:...|Eslam Fayez|          true|             true|                  true|                true|\n",
       "|hdfs://localhost:...|2024-07-01 05:48:...|Eslam Fayez|          true|             true|                  true|                true|\n",
       "|hdfs://localhost:...|2024-07-01 05:48:...|Eslam Fayez|          true|             true|                  true|                true|\n",
       "|hdfs://localhost:...|2024-07-01 05:48:...|Eslam Fayez|          true|             true|                  true|                true|\n",
       "|hdfs://localhost:...|2024-07-01 05:48:...|Eslam Fayez|          true|             true|                  true|                true|\n",
       "|hdfs://localhost:...|2024-07-01 05:48:...|Eslam Fayez|          true|             true|                  true|                true|\n",
       "+--------------------+--------------------+-----------+--------------+-----------------+----------------------+--------------------+\n",
       "only showing top 20 rows"
      ]
     },
     "execution_count": 40,
     "metadata": {},
     "output_type": "execute_result"
    }
   ],
   "source": [
    "#spark.sql(\"select * from sales_schema.dim_audit\")"
   ]
  },
  {
   "cell_type": "code",
   "execution_count": 30,
   "id": "20da60ac-6522-45ed-8754-5f59010f06cd",
   "metadata": {},
   "outputs": [],
   "source": [
    "branches= spark.read.parquet(\"/user/silver/branches/scd2/*.parquet\")\n",
    "\n",
    "\n",
    "branches.write\\\n",
    "    .mode(\"overwrite\")\\\n",
    "    .saveAsTable(\"branches_sales_schema.branches_dim\")"
   ]
  },
  {
   "cell_type": "code",
   "execution_count": 20,
   "id": "826d12c4-bacb-4152-8311-168fcd8dc6d4",
   "metadata": {},
   "outputs": [
    {
     "name": "stdout",
     "output_type": "stream",
     "text": [
      "+---------+-----------+-------------------+-----+------------+--------------+---------------+------------+\n",
      "|branch_id|   location|     establish_date|class|current_flag|effective_date|expiration_date|sk_branch_id|\n",
      "+---------+-----------+-------------------+-----+------------+--------------+---------------+------------+\n",
      "|        2|Los Angeles|2016-07-28 00:00:00|    B|        true|    2024-07-12|     9999-12-31|           2|\n",
      "|        1|   New York|2017-01-15 00:00:00|    A|       false|    2024-07-12|     2024-07-12|           1|\n",
      "|        3|    Chicago|2015-03-10 00:00:00|    A|        true|    2024-07-12|     9999-12-31|           3|\n",
      "|        5|    Phoenix|2017-09-20 00:00:00|    C|        true|    2024-07-12|     9999-12-31|           5|\n",
      "|        4|    Houston|2016-11-05 00:00:00|    D|        true|    2024-07-12|     9999-12-31|           4|\n",
      "|        1|      tanta|2017-01-15 00:00:00|    A|        true|    2024-07-12|     9999-12-31|           7|\n",
      "|        6|       Alex|2017-09-21 00:00:00|    C|        true|    2024-07-12|     9999-12-31|           6|\n",
      "+---------+-----------+-------------------+-----+------------+--------------+---------------+------------+\n",
      "\n"
     ]
    }
   ],
   "source": [
    "branches.show()"
   ]
  },
  {
   "cell_type": "code",
   "execution_count": 24,
   "id": "620b935a-782c-4e07-86eb-7afc266812fe",
   "metadata": {},
   "outputs": [],
   "source": [
    "sales_agents=spark.read.parquet(\"/user/silver/sales_agent/sales_agent.parquet\")\n",
    "\n",
    "\n",
    "sales_agents.write\\\n",
    "    .mode(\"overwrite\")\\\n",
    "    .saveAsTable(\"branches_sales_schema.sales_agent_dim\")"
   ]
  },
  {
   "cell_type": "code",
   "execution_count": 25,
   "id": "36976d63-6a12-4795-b1ab-130ea74458d4",
   "metadata": {},
   "outputs": [
    {
     "name": "stdout",
     "output_type": "stream",
     "text": [
      "+---------------+------------------+-------------------+\n",
      "|sales_person_id|              name|          hire_date|\n",
      "+---------------+------------------+-------------------+\n",
      "|              1|          John Doe|2020-06-03 00:00:00|\n",
      "|              2|        Jane Smith|2018-05-13 00:00:00|\n",
      "|              3|   Michael Johnson|2021-10-03 00:00:00|\n",
      "|              4|       Emily Brown|2020-10-25 00:00:00|\n",
      "|              5|      David Wilson|2021-04-08 00:00:00|\n",
      "|              6|       Emma Taylor|2019-03-28 00:00:00|\n",
      "|              7|Christopher Miller|2020-01-11 00:00:00|\n",
      "|              8|      Olivia Davis|2021-10-24 00:00:00|\n",
      "|              9|   Daniel Martinez|2018-10-08 00:00:00|\n",
      "|             10|      Sophia Moore|2019-05-25 00:00:00|\n",
      "+---------------+------------------+-------------------+\n",
      "\n"
     ]
    }
   ],
   "source": [
    "sales_agents.show()"
   ]
  },
  {
   "cell_type": "code",
   "execution_count": null,
   "id": "a37abbc2-99df-4e18-ab15-c33f31f3dfa4",
   "metadata": {},
   "outputs": [],
   "source": []
  }
 ],
 "metadata": {
  "kernelspec": {
   "display_name": "Pyspark 3",
   "language": "python",
   "name": "pyspark3"
  },
  "language_info": {
   "codemirror_mode": {
    "name": "ipython",
    "version": 3
   },
   "file_extension": ".py",
   "mimetype": "text/x-python",
   "name": "python",
   "nbconvert_exporter": "python",
   "pygments_lexer": "ipython3",
   "version": "3.6.9"
  }
 },
 "nbformat": 4,
 "nbformat_minor": 5
}
