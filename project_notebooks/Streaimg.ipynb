{
 "cells": [
  {
   "cell_type": "code",
   "execution_count": 44,
   "id": "ff9a6653-0435-4d19-904e-7d52a996cabe",
   "metadata": {},
   "outputs": [],
   "source": [
    "from pyspark.sql import SparkSession\n",
    "from pyspark.sql.functions import from_json, col, year, month\n",
    "from pyspark.sql.types import StructType, StringType, IntegerType, FloatType, TimestampType, MapType\n",
    "from pyspark.sql.types import DoubleType"
   ]
  },
  {
   "cell_type": "code",
   "execution_count": null,
   "id": "f3010f8d-3fa9-4546-a9c7-7b0f8ca8fd83",
   "metadata": {},
   "outputs": [],
   "source": []
  },
  {
   "cell_type": "code",
   "execution_count": null,
   "id": "f08a91d2-0d35-49e0-b4f4-47702ba1c45f",
   "metadata": {},
   "outputs": [],
   "source": [
    "spark = SparkSession.builder \\\n",
    "    .appName(\"KafkaStreamingExample\") \\\n",
    "    .config(\"spark.jars.packages\", \"org.apache.spark:spark-sql-kafka-0-10_2.11:2.4.8\") \\\n",
    "    .getOrCreate()"
   ]
  },
  {
   "cell_type": "code",
   "execution_count": 46,
   "id": "234263ab-9a12-46b2-866b-10527ce331b8",
   "metadata": {},
   "outputs": [],
   "source": [
    "bootstrap_servers = \"pkc-56d1g.eastus.azure.confluent.cloud:9092\"\n",
    "kafka_topic = \"Eslam_topic\" # add topic name\n",
    "kafka_username = \"JUKQQM4ZM632RECA\"\n",
    "kafka_password = \"UUkrPuSttgOC0U9lY3ZansNsKfN9fbxZPFwrGxudDrfv+knTD4rCwK+KdIzVPX0D\""
   ]
  },
  {
   "cell_type": "code",
   "execution_count": 48,
   "id": "0c6935dd-3ae6-44b5-b6a6-98385e491bce",
   "metadata": {},
   "outputs": [],
   "source": [
    "schema = StructType() \\\n",
    "    .add(\"eventType\", StringType()) \\\n",
    "    .add(\"customerId\", StringType()) \\\n",
    "    .add(\"productId\", StringType()) \\\n",
    "    .add(\"timestamp\", TimestampType()) \\\n",
    "    .add(\"metadata\", StructType()\n",
    "        .add(\"category\", StringType())\n",
    "        .add(\"source\", StringType())\n",
    "    ) \\\n",
    "    .add(\"quantity\", IntegerType()) \\\n",
    "    .add(\"totalAmount\", DoubleType()) \\\n",
    "    .add(\"paymentMethod\", StringType()) \\\n",
    "    .add(\"recommendedProductId\", StringType()) \\\n",
    "    .add(\"algorithm\", StringType())"
   ]
  },
  {
   "cell_type": "code",
   "execution_count": 49,
   "id": "12576910-e9df-4568-b441-e4b56f8ef70b",
   "metadata": {},
   "outputs": [],
   "source": [
    "df = spark \\\n",
    "    .readStream \\\n",
    "    .format(\"kafka\") \\\n",
    "    .option(\"kafka.bootstrap.servers\", bootstrap_servers) \\\n",
    "    .option(\"subscribe\", kafka_topic) \\\n",
    "    .option(\"startingOffsets\", \"earliest\") \\\n",
    "    .option(\"kafka.security.protocol\", \"SASL_SSL\") \\\n",
    "    .option(\"kafka.sasl.mechanism\", \"PLAIN\") \\\n",
    "    .option(\"kafka.sasl.jaas.config\",\n",
    "            f'org.apache.kafka.common.security.plain.PlainLoginModule required username=\"{kafka_username}\" password=\"{kafka_password}\";') \\\n",
    "    .load()"
   ]
  },
  {
   "cell_type": "code",
   "execution_count": 50,
   "id": "13b4783f-cb40-4795-a86e-c9a6d1c9c3fb",
   "metadata": {},
   "outputs": [],
   "source": [
    "json_df = df.selectExpr(\"CAST(value AS STRING)\").select(from_json(\"value\", schema).alias(\"data\")).select(\"data.*\")\n"
   ]
  },
  {
   "cell_type": "code",
   "execution_count": 54,
   "id": "9ff0254c-dcb6-4a5f-b25a-d22d6b1fcad9",
   "metadata": {},
   "outputs": [],
   "source": [
    "transformed_df = json_df \\\n",
    "    .withColumn(\"timestamp\", col(\"timestamp\").cast(TimestampType())) \\\n",
    "    .withColumn(\"year\", year(col(\"timestamp\"))) \\\n",
    "    .withColumn(\"month\", month(col(\"timestamp\"))) \\\n",
    "    .withColumn(\"category\", col(\"metadata\").getItem(\"category\")) \\\n",
    "    .withColumn(\"source\", col(\"metadata\").getItem(\"source\"))\n"
   ]
  },
  {
   "cell_type": "code",
   "execution_count": 51,
   "id": "93d157cf-0211-4fc4-bdcc-953fd797f828",
   "metadata": {},
   "outputs": [],
   "source": [
    "query = transformed_df \\\n",
    "    .writeStream \\\n",
    "    .outputMode(\"append\") \\\n",
    "    .format(\"parquet\") \\\n",
    "    .option(\"path\", \"hdfs://localhost:9000//user/streaming\") \\\n",
    "    .option(\"checkpointLocation\", \"hdfs://localhost:9000//user/streaming_check\") \\\n",
    "    .start()\n",
    "\n",
    "#query.awaitTermination()"
   ]
  },
  {
   "cell_type": "code",
   "execution_count": null,
   "id": "6ee8cda2-f9f4-4115-8be1-2830e31a7426",
   "metadata": {},
   "outputs": [],
   "source": [
    "streaming_df = spark.read.parquet(\"/user/streaming/*.parquet\")"
   ]
  },
  {
   "cell_type": "code",
   "execution_count": null,
   "id": "b6ab8f2f-b876-462c-a85b-28c092f28373",
   "metadata": {},
   "outputs": [],
   "source": [
    "SELECT \n",
    "    productId, \n",
    "    SUM(totalAmount) as total_sales \n",
    "FROM \n",
    "    streaming_data \n",
    "GROUP BY \n",
    "    productId \n",
    "ORDER BY \n",
    "    total_sales DESC \n",
    "LIMIT 5;\n"
   ]
  },
  {
   "cell_type": "code",
   "execution_count": null,
   "id": "b570a849-7654-4bd6-bc69-4a5ad55e7ac1",
   "metadata": {},
   "outputs": [],
   "source": [
    "SELECT \n",
    "    metadata.category, \n",
    "    YEAR('timestamp') as year, \n",
    "    MONTH('timestamp') as month, \n",
    "    SUM(totalAmount) as total_sales, \n",
    "    SUM(quantity) as total_quantity \n",
    "FROM \n",
    "    streaming_data \n",
    "GROUP BY \n",
    "    metadata.category, \n",
    "    YEAR('timestamp'), \n",
    "    MONTH('timestamp') \n",
    "ORDER BY \n",
    "    year, \n",
    "    month, \n",
    "    metadata.category;\n"
   ]
  },
  {
   "cell_type": "code",
   "execution_count": null,
   "id": "e5e39d5a-9835-4024-8c84-412d308a8543",
   "metadata": {},
   "outputs": [],
   "source": [
    "streaming_df.write\\\n",
    "    .mode(\"overwrite\")\\\n",
    "    .option(\"path\",\"/user/streaming/*.parquet\")\\\n",
    "    .saveAsTable(\"default.streaming_table\")"
   ]
  },
  {
   "cell_type": "code",
   "execution_count": 43,
   "id": "d9e035e1-5ee6-447e-9dec-521bc8b4aacf",
   "metadata": {},
   "outputs": [],
   "source": [
    "spark.stop()"
   ]
  },
  {
   "cell_type": "code",
   "execution_count": null,
   "id": "0a4e35e7-6407-4ddb-9a3e-0b226ea6425a",
   "metadata": {},
   "outputs": [],
   "source": []
  }
 ],
 "metadata": {
  "kernelspec": {
   "display_name": "Pyspark 2",
   "language": "python",
   "name": "pyspark2"
  },
  "language_info": {
   "codemirror_mode": {
    "name": "ipython",
    "version": 3
   },
   "file_extension": ".py",
   "mimetype": "text/x-python",
   "name": "python",
   "nbconvert_exporter": "python",
   "pygments_lexer": "ipython3",
   "version": "3.6.9"
  }
 },
 "nbformat": 4,
 "nbformat_minor": 5
}
