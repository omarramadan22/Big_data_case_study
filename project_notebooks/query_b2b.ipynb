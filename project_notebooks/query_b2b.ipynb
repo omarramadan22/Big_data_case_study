{
 "cells": [
  {
   "cell_type": "code",
   "execution_count": null,
   "id": "281c2a59-7932-425d-842d-8f9927e25453",
   "metadata": {},
   "outputs": [
    {
     "name": "stdout",
     "output_type": "stream",
     "text": [
      "Defaulting to user installation because normal site-packages is not writeable\n",
      "Requirement already satisfied: pandas in /home/itversity/.local/lib/python3.6/site-packages (1.1.5)\n",
      "Requirement already satisfied: python-dateutil>=2.7.3 in /home/itversity/.local/lib/python3.6/site-packages (from pandas) (2.8.2)\n",
      "Requirement already satisfied: numpy>=1.15.4 in /home/itversity/.local/lib/python3.6/site-packages (from pandas) (1.19.5)\n",
      "Requirement already satisfied: pytz>=2017.2 in /home/itversity/.local/lib/python3.6/site-packages (from pandas) (2021.3)\n",
      "Requirement already satisfied: six>=1.5 in /usr/lib/python3/dist-packages (from python-dateutil>=2.7.3->pandas) (1.11.0)\n"
     ]
    }
   ],
   "source": [
    "!pip install pandas"
   ]
  },
  {
   "cell_type": "code",
   "execution_count": 12,
   "id": "c5e166e4-8ee9-485c-aaf7-60b33837d88b",
   "metadata": {},
   "outputs": [],
   "source": [
    "import re\n",
    "from pyspark.sql import SparkSession\n",
    "import subprocess\n",
    "import pandas as pd\n",
    "from datetime import date"
   ]
  },
  {
   "cell_type": "code",
   "execution_count": 13,
   "id": "b47f5dee-3130-450f-8bbb-0c81165b584a",
   "metadata": {},
   "outputs": [],
   "source": [
    "spark = SparkSession \\\n",
    "    .builder \\\n",
    "    .master(\"local[4]\") \\\n",
    "    .appName(\"Caching\") \\\n",
    "    .config(\"spark.sql.warehouse.dir\", \"file:///data\") \\\n",
    "    .enableHiveSupport() \\\n",
    "    .getOrCreate()\n",
    "\n",
    "sc = spark.sparkContext"
   ]
  },
  {
   "cell_type": "code",
   "execution_count": 14,
   "id": "f213cef6-25c6-481d-8c50-bce15fd20232",
   "metadata": {},
   "outputs": [],
   "source": [
    "today = date.today().strftime(\"%Y-%m-%d\")"
   ]
  },
  {
   "cell_type": "code",
   "execution_count": 15,
   "id": "cd20afa1-c721-4926-af5c-7bd9506357c0",
   "metadata": {},
   "outputs": [],
   "source": [
    "filename = f\"b2b_{today}.csv\""
   ]
  },
  {
   "cell_type": "code",
   "execution_count": null,
   "id": "63e9a24e-e42c-4441-96e3-9c269c8da542",
   "metadata": {},
   "outputs": [],
   "source": [
    "daily=spark.sql(\"\"\"\n",
    "Select s.name, p.product_name, sum(f.units) as count_of_units\n",
    "From sales_schema.dim_product as p\n",
    "Join sales_schema.super_fact as f On p.product_id = f.product_id\n",
    "Join sales_schema.dim_sales_agent as s On s.sales_person_id = f.sales_agent_id\n",
    "Group by s.name, p.product_name\n",
    "Order by count_of_units desc\n",
    "\"\"\")\n"
   ]
  },
  {
   "cell_type": "code",
   "execution_count": 17,
   "id": "27e5da30-9324-439d-b1c6-efcee55107b3",
   "metadata": {},
   "outputs": [
    {
     "name": "stdout",
     "output_type": "stream",
     "text": [
      "+------------------+---------------+--------------+\n",
      "|              name|   product_name|count_of_units|\n",
      "+------------------+---------------+--------------+\n",
      "|      Olivia Davis|       Sneakers|          4148|\n",
      "|   Daniel Martinez|          Boots|          4134|\n",
      "|       Emma Taylor|        Blender|          3172|\n",
      "|      Olivia Davis|        Sandals|          3124|\n",
      "|        Jane Smith|     Headphones|          3038|\n",
      "|       Emma Taylor|          Boots|          2956|\n",
      "|Christopher Miller|          Boots|          2888|\n",
      "|      Sophia Moore|        Printer|          2754|\n",
      "|Christopher Miller|        Toaster|          2552|\n",
      "|      Sophia Moore|     Headphones|          2542|\n",
      "|        Jane Smith|     Smartphone|          2350|\n",
      "|        Jane Smith|          Boots|          2298|\n",
      "|        Jane Smith|        Toaster|          2262|\n",
      "|          John Doe|          Boots|          2201|\n",
      "|      Sophia Moore|          Boots|          2155|\n",
      "|       Emily Brown|        Blender|          2135|\n",
      "|      David Wilson|Electric Kettle|          2090|\n",
      "|          John Doe|        T-Shirt|          2058|\n",
      "|       Emma Taylor|     Headphones|          2046|\n",
      "|Christopher Miller|Electric Kettle|          2035|\n",
      "+------------------+---------------+--------------+\n",
      "only showing top 20 rows\n",
      "\n"
     ]
    }
   ],
   "source": [
    "daily.show()"
   ]
  },
  {
   "cell_type": "code",
   "execution_count": null,
   "id": "2765294b-ad35-443f-a16b-44526973de6b",
   "metadata": {},
   "outputs": [],
   "source": [
    "daily.coalesce(1) \\\n",
    "  .write.format('csv') \\\n",
    "  .option('header', True) \\\n",
    "  .mode('overwrite') \\\n",
    "  .option('sep', ',') \\\n",
    "  .save(f'file:///data/test/{filename}')"
   ]
  },
  {
   "cell_type": "code",
   "execution_count": null,
   "id": "bf8816fa-7ee1-4469-b1e4-dabf01857c82",
   "metadata": {},
   "outputs": [],
   "source": [
    "# Define HDFS path and local destination path\n",
    "#hdfs_output_path = 'hdfs:///data/test/output.csv'\n",
    "#local_destination_path = '/Downloads/output.csv'\n"
   ]
  },
  {
   "cell_type": "code",
   "execution_count": null,
   "id": "f1c8d2b1-72c4-4dc9-aea0-ac23ca5c01df",
   "metadata": {},
   "outputs": [
    {
     "data": {
      "text/plain": [
       "CompletedProcess(args=['hadoop', 'fs', '-get', 'hdfs:///data/test/output.csv', '/Downloads/output.csv'], returncode=1)"
      ]
     },
     "execution_count": 45,
     "metadata": {},
     "output_type": "execute_result"
    }
   ],
   "source": [
    "# Use the Hadoop fs -get command to move the file to the local file system\n",
    "#subprocess.run(['hadoop', 'fs', '-get', hdfs_output_path, local_destination_path])"
   ]
  },
  {
   "cell_type": "code",
   "execution_count": 32,
   "id": "b8cde7c9-57c6-4be6-a5b6-186efbfdb5b9",
   "metadata": {},
   "outputs": [
    {
     "name": "stdout",
     "output_type": "stream",
     "text": [
      "o_2024-07-11.csv\n"
     ]
    }
   ],
   "source": [
    "#print(filename)"
   ]
  },
  {
   "cell_type": "code",
   "execution_count": 33,
   "id": "1594a8b3-2eef-4054-9598-320a8785a82a",
   "metadata": {},
   "outputs": [
    {
     "name": "stdout",
     "output_type": "stream",
     "text": [
      "2024-07-11\n"
     ]
    }
   ],
   "source": [
    "#print(today)"
   ]
  },
  {
   "cell_type": "code",
   "execution_count": null,
   "id": "ddc26a8d-16ed-487a-92e7-cbdf9f365c3c",
   "metadata": {},
   "outputs": [],
   "source": [
    "daily.coalesce(1) \\\n",
    "  .write.format('csv') \\\n",
    "  .option('header', True) \\\n",
    "  .mode('overwrite') \\\n",
    "  .option('sep', ',') \\\n",
    "  .save('/Downloads/filename')"
   ]
  },
  {
   "cell_type": "code",
   "execution_count": null,
   "id": "ccb82fb5-8878-44d6-948e-1a548201cba4",
   "metadata": {},
   "outputs": [],
   "source": []
  }
 ],
 "metadata": {
  "kernelspec": {
   "display_name": "Pyspark 3",
   "language": "python",
   "name": "pyspark3"
  },
  "language_info": {
   "codemirror_mode": {
    "name": "ipython",
    "version": 3
   },
   "file_extension": ".py",
   "mimetype": "text/x-python",
   "name": "python",
   "nbconvert_exporter": "python",
   "pygments_lexer": "ipython3",
   "version": "3.6.9"
  }
 },
 "nbformat": 4,
 "nbformat_minor": 5
}
