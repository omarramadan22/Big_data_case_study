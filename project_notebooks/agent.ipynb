{
 "cells": [
  {
   "cell_type": "code",
   "execution_count": 1,
   "id": "89e8f290-dfad-48a7-8f2c-1da7513c4edb",
   "metadata": {},
   "outputs": [],
   "source": [
    "from pyspark.sql.types import *\n",
    "from pyspark.sql import SparkSession\n",
    "from pyspark.sql import functions as F\n",
    "from pyspark.sql.functions import when, col\n",
    "import os\n",
    "import subprocess\n"
   ]
  },
  {
   "cell_type": "code",
   "execution_count": 2,
   "id": "c79d0321-3688-4b98-8a27-e7d0c291d070",
   "metadata": {},
   "outputs": [],
   "source": [
    "spark = SparkSession\\\n",
    "    .builder\\\n",
    "    .master(\"local[4]\")\\\n",
    "    .appName(\"agent\")\\\n",
    "    .config(\"spark.eventLog.logBlockUpdates.enabled\", True)\\\n",
    "    .getOrCreate()\n",
    "\n",
    "sc = spark.sparkContext"
   ]
  },
  {
   "cell_type": "code",
   "execution_count": 3,
   "id": "6c730d6e-99e0-4986-96a8-2f872d0ae3d5",
   "metadata": {},
   "outputs": [],
   "source": [
    "spark.conf.set(\"spark.sql.repl.eagerEval.maxColWidth\", 1000)"
   ]
  },
  {
   "cell_type": "code",
   "execution_count": 4,
   "id": "4a8d2373-7894-4dfe-8219-582dc3f427b3",
   "metadata": {},
   "outputs": [],
   "source": [
    "fs = spark._jvm.org.apache.hadoop.fs.FileSystem.get(spark._jsc.hadoopConfiguration())\n",
    "list_status = fs.listStatus(spark._jvm.org.apache.hadoop.fs.Path(\"/user/sales_agent\"))\n",
    "files = [(file.getPath().toString(), file.getModificationTime()) for file in list_status if file.isFile()]\n",
    "files.sort(key=lambda x: x[1], reverse=True)\n",
    "latest_file = files[0][0] if files else None\n"
   ]
  },
  {
   "cell_type": "code",
   "execution_count": 5,
   "id": "9b706849-3e8c-4468-a387-4d3268fca14a",
   "metadata": {},
   "outputs": [],
   "source": [
    "df_sales_agents = spark.read.csv(latest_file, header=True, inferSchema=True)"
   ]
  },
  {
   "cell_type": "code",
   "execution_count": 6,
   "id": "ffe6eb15-46af-498e-9c12-464e151a2aba",
   "metadata": {},
   "outputs": [
    {
     "name": "stdout",
     "output_type": "stream",
     "text": [
      "+---------------+------------------+-------------------+\n",
      "|sales_person_id|              name|          hire_date|\n",
      "+---------------+------------------+-------------------+\n",
      "|              1|          John Doe|2020-06-03 00:00:00|\n",
      "|              2|        Jane Smith|2018-05-13 00:00:00|\n",
      "|              3|   Michael Johnson|2021-10-03 00:00:00|\n",
      "|              4|       Emily Brown|2020-10-25 00:00:00|\n",
      "|              5|      David Wilson|2021-04-08 00:00:00|\n",
      "|              6|       Emma Taylor|2019-03-28 00:00:00|\n",
      "|              7|Christopher Miller|2020-01-11 00:00:00|\n",
      "|              8|      Olivia Davis|2021-10-24 00:00:00|\n",
      "|              9|   Daniel Martinez|2018-10-08 00:00:00|\n",
      "|             10|      Sophia Moore|2019-05-25 00:00:00|\n",
      "+---------------+------------------+-------------------+\n",
      "\n"
     ]
    }
   ],
   "source": [
    "df_sales_agents.show()"
   ]
  },
  {
   "cell_type": "code",
   "execution_count": 7,
   "id": "dba2177e-de41-4a0c-9003-9837bf54470d",
   "metadata": {},
   "outputs": [],
   "source": [
    "checkpoint_path = \"/user/checkpoint/checkpoint_sales_agent.txt\"\n",
    "result = subprocess.run(['hdfs', 'dfs', '-test', '-e', checkpoint_path])\n",
    "if result.returncode != 0:\n",
    "    latest_processed_file = \"\"\n",
    "else:\n",
    "    rdd = sc.textFile(\"/user/checkpoint/checkpoint_sales_agent.txt\")\n",
    "    latest_processed_file = rdd.take(rdd.count())[-1]\n",
    "    print(latest_processed_file)"
   ]
  },
  {
   "cell_type": "code",
   "execution_count": 8,
   "id": "963a63a0-e269-4aeb-9135-f96bc96e66da",
   "metadata": {},
   "outputs": [
    {
     "name": "stdout",
     "output_type": "stream",
     "text": [
      "\n"
     ]
    }
   ],
   "source": [
    "print(latest_processed_file)"
   ]
  },
  {
   "cell_type": "code",
   "execution_count": 9,
   "id": "52027d9f-abb4-441a-a046-454933556810",
   "metadata": {},
   "outputs": [],
   "source": [
    "def write_checkpoint(checkpoint_path, latest_file):\n",
    "    checkpoint_dir = os.path.dirname(checkpoint_path)\n",
    "    result = subprocess.run(['hdfs', 'dfs', '-test', '-e', checkpoint_dir])\n",
    "    if result.returncode != 0:\n",
    "        subprocess.run(['hdfs', 'dfs', '-mkdir', '-p', checkpoint_dir])\n",
    "    \n",
    "    with open('/tmp/checkpoint_tmp.txt', 'w') as f:\n",
    "        f.write(latest_file)\n",
    "    \n",
    "    subprocess.run(['hdfs', 'dfs', '-put', '-f', '/tmp/checkpoint_tmp.txt', checkpoint_path])\n",
    "    os.remove('/tmp/checkpoint_tmp.txt')"
   ]
  },
  {
   "cell_type": "code",
   "execution_count": null,
   "id": "50ca1398-d924-413b-8b2f-7af9ded465dd",
   "metadata": {},
   "outputs": [],
   "source": []
  },
  {
   "cell_type": "code",
   "execution_count": 10,
   "id": "b7961788-d686-4d91-b7e9-6a98715cc4f0",
   "metadata": {},
   "outputs": [],
   "source": [
    "processed_path = \"/user/silver/sales_agent/sales_agent.parquet\"\n",
    "processed_dir = \"/user/silver/sales_agent\"\n",
    "checkpoint_path = \"/user/checkpoint/checkpoint_sales_agent.txt\"\n",
    "    \n",
    "if latest_processed_file == latest_file:\n",
    "    print(f\"File already processed before: {latest_processed_file}\")\n",
    "    write_checkpoint(checkpoint_path, latest_file)\n",
    "else:\n",
    "    result = subprocess.run(['hdfs', 'dfs', '-test', '-e', processed_dir])\n",
    "    if result.returncode == 0:\n",
    "        write_checkpoint(checkpoint_path, latest_file)\n",
    "        print(f\"File already exists in HDFS: {processed_dir}\")\n",
    "        df_sales_agents.write.parquet(processed_path, mode=\"overwrite\")\n",
    "    else:\n",
    "        write_checkpoint(checkpoint_path, latest_file)\n",
    "        subprocess.run(['hdfs', 'dfs', '-mkdir', '-p', processed_dir])\n",
    "        df_sales_agents.write.parquet(processed_path)"
   ]
  },
  {
   "cell_type": "code",
   "execution_count": null,
   "id": "dca9327e-a939-435b-8c22-06b369e1bf13",
   "metadata": {},
   "outputs": [],
   "source": [
    "sc.stop()"
   ]
  },
  {
   "cell_type": "code",
   "execution_count": null,
   "id": "5bbc390c-1c87-4bbb-bf78-c29e209c7da4",
   "metadata": {},
   "outputs": [],
   "source": []
  }
 ],
 "metadata": {
  "kernelspec": {
   "display_name": "Pyspark 2",
   "language": "python",
   "name": "pyspark2"
  },
  "language_info": {
   "codemirror_mode": {
    "name": "ipython",
    "version": 3
   },
   "file_extension": ".py",
   "mimetype": "text/x-python",
   "name": "python",
   "nbconvert_exporter": "python",
   "pygments_lexer": "ipython3",
   "version": "3.6.9"
  }
 },
 "nbformat": 4,
 "nbformat_minor": 5
}
